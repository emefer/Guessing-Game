{
 "cells": [
  {
   "cell_type": "code",
   "execution_count": 1,
   "metadata": {},
   "outputs": [
    {
     "name": "stdout",
     "output_type": "stream",
     "text": [
      "Guessing game\n",
      "\n",
      "\n",
      "Insert a number between 1 and 10: 5\n"
     ]
    }
   ],
   "source": [
    "MAX = 10\n",
    "MIN = 1\n",
    "print (\"Guessing game\\n\\n\")\n",
    "number = input (\"Insert a number between \" + str(MIN) + \" and \" + str(MAX) + \": \")\n",
    "number = int(number)\n",
    "while (number < MIN or number > MAX):\n",
    "    print (\"Number is out of range!\\n\")\n",
    "    number = input (\"Insert a number between \" + str(MIN) + \" and \" + str(MAX) + \": \")\n",
    "    number = int(number)"
   ]
  }
 ],
 "metadata": {
  "kernelspec": {
   "display_name": "Python 3",
   "language": "python",
   "name": "python3"
  },
  "language_info": {
   "codemirror_mode": {
    "name": "ipython",
    "version": 3
   },
   "file_extension": ".py",
   "mimetype": "text/x-python",
   "name": "python",
   "nbconvert_exporter": "python",
   "pygments_lexer": "ipython3",
   "version": "3.6.7"
  }
 },
 "nbformat": 4,
 "nbformat_minor": 2
}

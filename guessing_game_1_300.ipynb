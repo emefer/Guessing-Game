{
 "cells": [
  {
   "cell_type": "markdown",
   "metadata": {},
   "source": [
    "Guessing Game\n",
    "\n",
    "Select the Cell below and Click the >| Run button "
   ]
  },
  {
   "cell_type": "code",
   "execution_count": null,
   "metadata": {},
   "outputs": [],
   "source": [
    "import random\n",
    "\n",
    "MAX = 300\n",
    "MIN = 1\n",
    "\n",
    "genNumber = random.randint(MIN, MAX)\n",
    "#print (\"Generated number: \" + str(genNumber))\n",
    "print (\"Guessing game\\n\\n\")\n",
    "number = input (\"Insert a number between \" + str(MIN) + \" and \" + str(MAX) + \": \")\n",
    "try:\n",
    "    number = int(number)\n",
    "except:\n",
    "    print (\"Please enter only numbers\\n\")    \n",
    "tries = 1\n",
    "\n",
    "while (number != genNumber):    \n",
    "    tries = tries + 1\n",
    "    if (genNumber < number):\n",
    "        print (\"My number is lower. Try again!\\n\")\n",
    "    else:\n",
    "        print (\"My number is higher. Try again!\\n\")    \n",
    "    number = input (\"Insert a number between \" + str(MIN) + \" and \" + str(MAX) + \": \")\n",
    "    number = int(number)\n",
    "\n",
    "print (\"You guessed it in \" + str(tries) + \" tries!\\n\")"
   ]
  }
 ],
 "metadata": {
  "kernelspec": {
   "display_name": "Python 3",
   "language": "python",
   "name": "python3"
  },
  "language_info": {
   "codemirror_mode": {
    "name": "ipython",
    "version": 3
   },
   "file_extension": ".py",
   "mimetype": "text/x-python",
   "name": "python",
   "nbconvert_exporter": "python",
   "pygments_lexer": "ipython3",
   "version": "3.6.7"
  }
 },
 "nbformat": 4,
 "nbformat_minor": 2
}
